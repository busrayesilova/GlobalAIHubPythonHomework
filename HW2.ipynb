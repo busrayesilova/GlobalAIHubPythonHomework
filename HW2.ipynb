{
 "cells": [
  {
   "cell_type": "code",
   "execution_count": 107,
   "metadata": {},
   "outputs": [
    {
     "name": "stdout",
     "output_type": "stream",
     "text": [
      "Please write your first name:Büşra\n",
      "Please write your last name:Yeşilova\n",
      "Please write your age:21\n",
      "Please write your year of birth:1999\n",
      "Büşra\n",
      "Yeşilova\n",
      "21\n",
      "1999\n",
      "You can go out to the street\n"
     ]
    }
   ],
   "source": [
    "Name= str(input(\"Please write your first name:\"))\n",
    "LastName=str(input(\"Please write your last name:\"))\n",
    "Age= int(input(\"Please write your age:\"))\n",
    "BirthYear= int(input(\"Please write your year of birth:\"))\n",
    "\n",
    "mylist=[]\n",
    "mylist.append(Name)\n",
    "mylist.append(LastName)\n",
    "mylist.append(Age)\n",
    "mylist.append(BirthYear)\n",
    "\n",
    "for i in range(len(mylist)):\n",
    "    print(mylist[i])\n",
    "\n",
    "\n",
    "x = Age\n",
    "\n",
    "if x < 18:\n",
    "    print(\"You can't go out because it's to dangerous\")\n",
    "elif x > 18:\n",
    "    print(\"You can go out to the street\")\n"
   ]
  }
 ],
 "metadata": {
  "kernelspec": {
   "display_name": "Python 3",
   "language": "python",
   "name": "python3"
  },
  "language_info": {
   "codemirror_mode": {
    "name": "ipython",
    "version": 3
   },
   "file_extension": ".py",
   "mimetype": "text/x-python",
   "name": "python",
   "nbconvert_exporter": "python",
   "pygments_lexer": "ipython3",
   "version": "3.8.5"
  }
 },
 "nbformat": 4,
 "nbformat_minor": 4
}
