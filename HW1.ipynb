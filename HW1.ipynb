{
 "cells": [
  {
   "cell_type": "code",
   "execution_count": 3,
   "metadata": {},
   "outputs": [
    {
     "name": "stdout",
     "output_type": "stream",
     "text": [
      "Please write your name: Büşra\n",
      "Please write your age: 21\n",
      "Please write your test result: 80.0\n",
      "Please write a city name: İstanbul\n",
      "x1: Büşra type <class 'str'>\n",
      "x2: 21 type <class 'int'>\n",
      "x1: 80.0 type <class 'str'>\n",
      "x1: İstanbul type <class 'str'>\n"
     ]
    }
   ],
   "source": [
    "\n",
    "#Homework1\n",
    "\n",
    "#Step1\n",
    "\n",
    "x1= str(input(\"Please write your name: \"))\n",
    "x2= int(input(\"Please write your age: \"))\n",
    "x3= float(input(\"Please write your test result: \"))\n",
    "x4= str(input(\"Please write a city name: \"))\n",
    "\n",
    "#Step2\n",
    "\n",
    "print(\"x1: {} type {}\".format(x1, type(x1)))\n",
    "print(\"x2: {} type {}\".format(x2, type(x2)))\n",
    "print(\"x1: {} type {}\".format(x3, type(x1)))\n",
    "print(\"x1: {} type {}\".format(x4, type(x1)))\n"
   ]
  },
  {
   "cell_type": "code",
   "execution_count": null,
   "metadata": {},
   "outputs": [],
   "source": []
  }
 ],
 "metadata": {
  "kernelspec": {
   "display_name": "Python 3",
   "language": "python",
   "name": "python3"
  },
  "language_info": {
   "codemirror_mode": {
    "name": "ipython",
    "version": 3
   },
   "file_extension": ".py",
   "mimetype": "text/x-python",
   "name": "python",
   "nbconvert_exporter": "python",
   "pygments_lexer": "ipython3",
   "version": "3.8.5"
  }
 },
 "nbformat": 4,
 "nbformat_minor": 4
}
